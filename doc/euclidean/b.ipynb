{
 "cells": [
  {
   "cell_type": "markdown",
   "metadata": {
    "nbsphinx": "hidden"
   },
   "source": [
    "This notebook is part of https://github.com/AudioSceneDescriptionFormat/splines, see also https://splines.readthedocs.io/.\n",
    "\n",
    "[back to Euclidean splines](index.ipynb)"
   ]
  },
  {
   "cell_type": "markdown",
   "metadata": {},
   "source": [
    "# B-Splines"
   ]
  },
  {
   "cell_type": "markdown",
   "metadata": {},
   "source": [
    "Schoenberg?"
   ]
  },
  {
   "cell_type": "markdown",
   "metadata": {},
   "source": [
    "\"B\" stands for *basis*"
   ]
  },
  {
   "cell_type": "markdown",
   "metadata": {},
   "source": [
    "<cite data-cite=\"gordon1974bspline\">Gordon and Riesenfeld (1974)</cite>"
   ]
  },
  {
   "cell_type": "markdown",
   "metadata": {},
   "source": [
    "> This paper extends Bézier's basic methods for\n",
    "curve and surface description by generalizing from\n",
    "parametric polynomials to parametric spline functions."
   ]
  },
  {
   "cell_type": "markdown",
   "metadata": {},
   "source": [
    "Recursive formulation for basis functions independently discovered by Cox and de Boor."
   ]
  },
  {
   "cell_type": "markdown",
   "metadata": {},
   "source": [
    "Equations from <cite data-cite=\"gordon1974bspline\">Gordon and Riesenfeld (1974)</cite>:"
   ]
  },
  {
   "cell_type": "markdown",
   "metadata": {},
   "source": [
    "Equation (3.1):\n",
    "\n",
    "\\begin{equation*}\n",
    "N_{i,1}(s) =\n",
    "\\begin{cases}\n",
    "1, \\text{ for } x_i \\le s \\le x_{i+1}\\\\\n",
    "0, \\text{ otherwise}\n",
    "\\end{cases}\n",
    "\\end{equation*}"
   ]
  },
  {
   "cell_type": "markdown",
   "metadata": {},
   "source": [
    "Equation (3.2):\n",
    "\n",
    "\\begin{equation*}\n",
    "N_{i,M}(s) =\n",
    "\\frac{s - x_i}{x_{i+M-1} - x_i} N_{i,M-1}(s) +\n",
    "\\frac{x_{i+M} - s}{x_{i+M} - x_{i+1}} N_{i+1,M-1}(s),\n",
    "\\text{ for } M > 1\n",
    "\\end{equation*}"
   ]
  },
  {
   "cell_type": "code",
   "execution_count": null,
   "metadata": {},
   "outputs": [],
   "source": [
    "# N0,3\n",
    "\n",
    "# (s - x0)/2 * N0,2(s) + (x3 - s)/2 * N1,2(s)\n",
    "\n",
    "# N0,2\n",
    "\n",
    "# (s - x0) * N0,1(s) + (x2 - s) * N1,1(s)\n",
    "\n",
    "# N1,2\n",
    "\n",
    "# (s - x1) * N1,1(s) + (x3 - s) * N2,1(s)\n",
    "\n",
    "# 0 to 1:\n",
    "# s/2 * s\n",
    "\n",
    "# 1 to 2:\n",
    "# s/2 * (2 - s) + (3 - s)/2 * (s - 1)\n",
    "# (s - 0)/2 *  (2 - s) + (3 - s)/2 * (s - 1)\n",
    "\n",
    "# uniform?\n",
    "# (s + 1)/2 * (1 - s) + (2 - s)/2 * s\n",
    "\n",
    "# 2 to 3:\n",
    "# (3 - s)/2 * (3 - s)\n",
    "\n",
    "# uniform?\n",
    "# (1 - s)/2 * (1 - s)"
   ]
  },
  {
   "cell_type": "code",
   "execution_count": null,
   "metadata": {},
   "outputs": [],
   "source": []
  },
  {
   "cell_type": "code",
   "execution_count": null,
   "metadata": {},
   "outputs": [],
   "source": []
  },
  {
   "cell_type": "code",
   "execution_count": null,
   "metadata": {},
   "outputs": [],
   "source": []
  }
 ],
 "metadata": {
  "kernelspec": {
   "display_name": "Python 3",
   "language": "python",
   "name": "python3"
  },
  "language_info": {
   "codemirror_mode": {
    "name": "ipython",
    "version": 3
   },
   "file_extension": ".py",
   "mimetype": "text/x-python",
   "name": "python",
   "nbconvert_exporter": "python",
   "pygments_lexer": "ipython3",
   "version": "3.9.1+"
  }
 },
 "nbformat": 4,
 "nbformat_minor": 4
}
