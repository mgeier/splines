{
 "cells": [
  {
   "cell_type": "markdown",
   "metadata": {
    "nbsphinx": "hidden"
   },
   "source": [
    "This notebook is part of https://github.com/AudioSceneDescriptionFormat/splines, see also https://splines.readthedocs.io/.\n",
    "\n",
    "[back to overview](end-conditions.ipynb)"
   ]
  },
  {
   "cell_type": "markdown",
   "metadata": {},
   "source": [
    "# Not-A-Knot End Conditions\n",
    "\n",
    "We are looking only at the non-uniform case here,\n",
    "it's easy to get to the uniform case by setting $\\Delta_i = 1$."
   ]
  },
  {
   "cell_type": "code",
   "execution_count": null,
   "metadata": {},
   "outputs": [],
   "source": [
    "import sympy as sp\n",
    "sp.init_printing(order='rev-lex')"
   ]
  },
  {
   "cell_type": "markdown",
   "metadata": {},
   "source": [
    "[utility.py](utility.py)"
   ]
  },
  {
   "cell_type": "code",
   "execution_count": null,
   "metadata": {},
   "outputs": [],
   "source": [
    "from utility import NamedExpression"
   ]
  },
  {
   "cell_type": "code",
   "execution_count": null,
   "metadata": {},
   "outputs": [],
   "source": [
    "t = sp.symbols('t')"
   ]
  },
  {
   "cell_type": "markdown",
   "metadata": {},
   "source": [
    "## Begin\n",
    "\n",
    "first polynomial segment: $\\boldsymbol{p}_0(t)$, $t_0 \\le t \\le t_1$\n",
    "\n",
    "second polynomial segment: $\\boldsymbol{p}_1(t)$, $t_1 \\le t \\le t_2$"
   ]
  },
  {
   "cell_type": "code",
   "execution_count": null,
   "metadata": {},
   "outputs": [],
   "source": [
    "t0, t1, t2 = sp.symbols('t:3')"
   ]
  },
  {
   "cell_type": "code",
   "execution_count": null,
   "metadata": {},
   "outputs": [],
   "source": [
    "#a0, a1, b0, b1, c0, c1, d0, d1 = sp.symbols('a:dbm0:2')"
   ]
  },
  {
   "cell_type": "code",
   "execution_count": null,
   "metadata": {},
   "outputs": [],
   "source": [
    "b_monomial = sp.Matrix([t**3, t**2, t, 1]).T"
   ]
  },
  {
   "cell_type": "code",
   "execution_count": null,
   "metadata": {},
   "outputs": [],
   "source": [
    "p0 = NamedExpression(\n",
    "    'pbm0',\n",
    "    b_monomial.dot(sp.symbols('a:dbm0')[::-1]).subs(t, (t - t0) / (t1 - t0)))\n",
    "p1 = NamedExpression(\n",
    "    'pbm1',\n",
    "    b_monomial.dot(sp.symbols('a:dbm1')[::-1]).subs(t, (t - t1) / (t2 - t1)))\n",
    "pd0 = p0.diff(t)\n",
    "pd1 = p1.diff(t)\n",
    "display(p0, p1, pd0, pd1)"
   ]
  },
  {
   "cell_type": "markdown",
   "metadata": {},
   "source": [
    "???\n",
    "\n",
    "\\begin{align}\n",
    "\\boldsymbol{x}_0 &= \\boldsymbol{p}_0(t_0)\\\\\n",
    "\\boldsymbol{x}_1 &= \\boldsymbol{p}_0(t_1)\\\\\n",
    "\\boldsymbol{\\dot{x}}_0 &= \\boldsymbol{p}_0'(t_0)\\\\\n",
    "\\boldsymbol{\\dot{x}}_1 &= \\boldsymbol{p}_0'(t_1)\n",
    "\\end{align}"
   ]
  },
  {
   "cell_type": "code",
   "execution_count": null,
   "metadata": {
    "scrolled": true
   },
   "outputs": [],
   "source": [
    "pdd0 = pd0.diff(t)\n",
    "pdd1 = pd1.diff(t)\n",
    "display(pdd0, pdd1)"
   ]
  },
  {
   "cell_type": "code",
   "execution_count": null,
   "metadata": {},
   "outputs": [],
   "source": [
    "equations_begin = [\n",
    "    p0.evaluated_at(t, t0).with_name('xbm0'),\n",
    "    p0.evaluated_at(t, t1).with_name('xbm1'),\n",
    "    pd0.evaluated_at(t, t0).with_name('xbmdot0'),\n",
    "    pd0.evaluated_at(t, t1).with_name('xbmdot1'),\n",
    "    p1.evaluated_at(t, t1).with_name('xbm1'),\n",
    "    p1.evaluated_at(t, t2).with_name('xbm2'),\n",
    "    pd1.evaluated_at(t, t1).with_name('xbmdot1'),\n",
    "    #pd1.evaluated_at(t, t2).with_name('xbmdot2'),\n",
    "    sp.Eq(pdd0.evaluated_at(t, t1).expr, pdd1.evaluated_at(t, t1).expr),\n",
    "]"
   ]
  },
  {
   "cell_type": "markdown",
   "metadata": {},
   "source": [
    "only for display purposes,\n",
    "the calculations are still done with $t_i$"
   ]
  },
  {
   "cell_type": "code",
   "execution_count": null,
   "metadata": {},
   "outputs": [],
   "source": [
    "deltas_begin = {\n",
    "    t1 - t0: sp.Symbol('Delta0'),\n",
    "    t2 - t1: sp.Symbol('Delta1'),\n",
    "    #2 * (t1 - t0): 2 * sp.Symbol('Delta0'),\n",
    "    #2 * (t2 - t1): 2 * sp.Symbol('Delta1'),\n",
    "}"
   ]
  },
  {
   "cell_type": "code",
   "execution_count": null,
   "metadata": {},
   "outputs": [],
   "source": [
    "for e in equations_begin:\n",
    "    display(e.subs(deltas_begin))"
   ]
  },
  {
   "cell_type": "code",
   "execution_count": null,
   "metadata": {},
   "outputs": [],
   "source": [
    "coefficients_begin = sp.solve(equations_begin, sp.symbols('a:dbm0:2'))"
   ]
  },
  {
   "cell_type": "code",
   "execution_count": null,
   "metadata": {
    "scrolled": false
   },
   "outputs": [],
   "source": [
    "for c, e in coefficients_begin.items():\n",
    "    display(NamedExpression(c, e.subs(deltas_begin)))"
   ]
  },
  {
   "cell_type": "code",
   "execution_count": null,
   "metadata": {},
   "outputs": [],
   "source": []
  },
  {
   "cell_type": "code",
   "execution_count": null,
   "metadata": {},
   "outputs": [],
   "source": []
  },
  {
   "cell_type": "code",
   "execution_count": null,
   "metadata": {},
   "outputs": [],
   "source": []
  },
  {
   "cell_type": "code",
   "execution_count": null,
   "metadata": {},
   "outputs": [],
   "source": []
  },
  {
   "cell_type": "code",
   "execution_count": null,
   "metadata": {},
   "outputs": [],
   "source": [
    "delta0, delta1 = sp.symbols('Delta:2')"
   ]
  },
  {
   "cell_type": "code",
   "execution_count": null,
   "metadata": {},
   "outputs": [],
   "source": [
    "deltas_begin = {\n",
    "    t1 - t0: delta0,\n",
    "    t2 - t1: delta1,\n",
    "    sp.expand((t1 - t0)**2): delta0**2,\n",
    "    sp.expand((t1 - t0)**3): delta0**3,\n",
    "    sp.expand((t2 - t1)**3 * (t1 - t0)**2): delta1**3 * delta0**2,\n",
    "    \n",
    "    sp.expand((t1 - t0) * delta1**3): delta0 * delta1**3,\n",
    "}"
   ]
  },
  {
   "cell_type": "code",
   "execution_count": null,
   "metadata": {},
   "outputs": [],
   "source": []
  },
  {
   "cell_type": "code",
   "execution_count": null,
   "metadata": {
    "scrolled": true
   },
   "outputs": [],
   "source": [
    "pddd0 = pdd0.diff(t)\n",
    "pddd1 = pdd1.diff(t)\n",
    "display(pddd0, pddd1)"
   ]
  },
  {
   "cell_type": "code",
   "execution_count": null,
   "metadata": {
    "scrolled": false
   },
   "outputs": [],
   "source": [
    "expr = pddd0.evaluated_at(t, t1).expr - pddd1.evaluated_at(t, t1).expr\n",
    "expr"
   ]
  },
  {
   "cell_type": "code",
   "execution_count": null,
   "metadata": {},
   "outputs": [],
   "source": [
    "expr = expr.subs(coefficients_begin).subs(deltas_begin).simplify().factor()\n",
    "expr"
   ]
  },
  {
   "cell_type": "code",
   "execution_count": null,
   "metadata": {},
   "outputs": [],
   "source": [
    "expr *= sp.denom(expr)\n",
    "expr"
   ]
  },
  {
   "cell_type": "code",
   "execution_count": null,
   "metadata": {},
   "outputs": [],
   "source": [
    "expr /= 6"
   ]
  },
  {
   "cell_type": "code",
   "execution_count": null,
   "metadata": {},
   "outputs": [],
   "source": [
    "expr"
   ]
  },
  {
   "cell_type": "code",
   "execution_count": null,
   "metadata": {
    "scrolled": false
   },
   "outputs": [],
   "source": [
    "expr.collect(sp.symbols('xbmdot:2'))"
   ]
  },
  {
   "cell_type": "code",
   "execution_count": null,
   "metadata": {},
   "outputs": [],
   "source": []
  },
  {
   "cell_type": "code",
   "execution_count": null,
   "metadata": {},
   "outputs": [],
   "source": []
  },
  {
   "cell_type": "code",
   "execution_count": null,
   "metadata": {},
   "outputs": [],
   "source": []
  },
  {
   "cell_type": "code",
   "execution_count": null,
   "metadata": {},
   "outputs": [],
   "source": []
  },
  {
   "cell_type": "code",
   "execution_count": null,
   "metadata": {},
   "outputs": [],
   "source": []
  },
  {
   "cell_type": "code",
   "execution_count": null,
   "metadata": {},
   "outputs": [],
   "source": []
  },
  {
   "cell_type": "code",
   "execution_count": null,
   "metadata": {},
   "outputs": [],
   "source": []
  },
  {
   "cell_type": "markdown",
   "metadata": {},
   "source": [
    "## End\n",
    "\n",
    "$N$ vertices, $N-1$ polynomial segments\n",
    "\n",
    "last polynomial: $\\boldsymbol{p}_{N-2}(t)$, $t \\in [t_{N-2}, t_{N-1}]$"
   ]
  },
  {
   "cell_type": "markdown",
   "metadata": {},
   "source": [
    "To simplify the notation a bit,\n",
    "let's assume we have $N = 10$ vertices,\n",
    "which makes $\\boldsymbol{p}_8$ the last polynomial segment."
   ]
  },
  {
   "cell_type": "code",
   "execution_count": null,
   "metadata": {},
   "outputs": [],
   "source": []
  },
  {
   "cell_type": "code",
   "execution_count": null,
   "metadata": {},
   "outputs": [],
   "source": []
  },
  {
   "cell_type": "code",
   "execution_count": null,
   "metadata": {},
   "outputs": [],
   "source": []
  },
  {
   "cell_type": "markdown",
   "metadata": {},
   "source": [
    "Luckily, that's symmetric to the result we got above."
   ]
  }
 ],
 "metadata": {
  "kernelspec": {
   "display_name": "Python 3",
   "language": "python",
   "name": "python3"
  },
  "language_info": {
   "codemirror_mode": {
    "name": "ipython",
    "version": 3
   },
   "file_extension": ".py",
   "mimetype": "text/x-python",
   "name": "python",
   "nbconvert_exporter": "python",
   "pygments_lexer": "ipython3",
   "version": "3.9.1"
  }
 },
 "nbformat": 4,
 "nbformat_minor": 4
}
