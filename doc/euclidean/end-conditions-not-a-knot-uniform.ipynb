{
 "cells": [
  {
   "cell_type": "markdown",
   "metadata": {
    "nbsphinx": "hidden"
   },
   "source": [
    "This notebook is part of https://github.com/AudioSceneDescriptionFormat/splines, see also https://splines.readthedocs.io/.\n",
    "\n",
    "[back to overview](end-conditions.ipynb)"
   ]
  },
  {
   "cell_type": "markdown",
   "metadata": {},
   "source": [
    "# Not-A-Knot End Conditions (Uniform)"
   ]
  },
  {
   "cell_type": "code",
   "execution_count": null,
   "metadata": {},
   "outputs": [],
   "source": [
    "import sympy as sp\n",
    "sp.init_printing(order='rev-lex')"
   ]
  },
  {
   "cell_type": "markdown",
   "metadata": {},
   "source": [
    "[utility.py](utility.py)"
   ]
  },
  {
   "cell_type": "code",
   "execution_count": null,
   "metadata": {},
   "outputs": [],
   "source": [
    "from utility import NamedExpression"
   ]
  },
  {
   "cell_type": "code",
   "execution_count": null,
   "metadata": {},
   "outputs": [],
   "source": [
    "t = sp.symbols('t')"
   ]
  },
  {
   "cell_type": "markdown",
   "metadata": {},
   "source": [
    "## Begin\n",
    "\n",
    "first polynomial segment: $\\boldsymbol{p}_0(t)$, $0 \\le t \\le 1$\n",
    "\n",
    "second polynomial segment: $\\boldsymbol{p}_1(t)$, $0 \\le t \\le 1$"
   ]
  },
  {
   "cell_type": "code",
   "execution_count": null,
   "metadata": {},
   "outputs": [],
   "source": [
    "#a0, a1, b0, b1, c0, c1, d0, d1 = sp.symbols('a:dbm0:2')"
   ]
  },
  {
   "cell_type": "code",
   "execution_count": null,
   "metadata": {},
   "outputs": [],
   "source": [
    "b_monomial = sp.Matrix([t**3, t**2, t, 1]).T"
   ]
  },
  {
   "cell_type": "code",
   "execution_count": null,
   "metadata": {},
   "outputs": [],
   "source": [
    "p0 = NamedExpression(\n",
    "    'pbm0',\n",
    "    b_monomial.dot(sp.symbols('a:dbm0')[::-1]))\n",
    "p1 = NamedExpression(\n",
    "    'pbm1',\n",
    "    b_monomial.dot(sp.symbols('a:dbm1')[::-1]))\n",
    "pd0 = p0.diff(t)\n",
    "pd1 = p1.diff(t)\n",
    "display(p0, p1, pd0, pd1)"
   ]
  },
  {
   "cell_type": "markdown",
   "metadata": {},
   "source": [
    "???\n",
    "\n",
    "\\begin{align}\n",
    "\\boldsymbol{x}_0 &= \\boldsymbol{p}_0(t_0)\\\\\n",
    "\\boldsymbol{x}_1 &= \\boldsymbol{p}_0(t_1)\\\\\n",
    "\\boldsymbol{\\dot{x}}_0 &= \\boldsymbol{p}_0'(t_0)\\\\\n",
    "\\boldsymbol{\\dot{x}}_1 &= \\boldsymbol{p}_0'(t_1)\n",
    "\\end{align}"
   ]
  },
  {
   "cell_type": "code",
   "execution_count": null,
   "metadata": {
    "scrolled": true
   },
   "outputs": [],
   "source": [
    "pdd0 = pd0.diff(t)\n",
    "pdd1 = pd1.diff(t)\n",
    "display(pdd0, pdd1)"
   ]
  },
  {
   "cell_type": "code",
   "execution_count": null,
   "metadata": {},
   "outputs": [],
   "source": [
    "equations_begin = [\n",
    "    p0.evaluated_at(t, 0).with_name('xbm0'),\n",
    "    p0.evaluated_at(t, 1).with_name('xbm1'),\n",
    "    pd0.evaluated_at(t, 0).with_name('xbmdot0'),\n",
    "    pd0.evaluated_at(t, 1).with_name('xbmdot1'),\n",
    "    p1.evaluated_at(t, 0).with_name('xbm1'),\n",
    "    p1.evaluated_at(t, 1).with_name('xbm2'),\n",
    "    pd1.evaluated_at(t, 0).with_name('xbmdot1'),\n",
    "    #pd1.evaluated_at(t, 1).with_name('xbmdot2'),\n",
    "    sp.Eq(pdd0.evaluated_at(t, 1).expr, pdd1.evaluated_at(t, 0).expr),\n",
    "]"
   ]
  },
  {
   "cell_type": "code",
   "execution_count": null,
   "metadata": {},
   "outputs": [],
   "source": [
    "display(*equations_begin)"
   ]
  },
  {
   "cell_type": "code",
   "execution_count": null,
   "metadata": {},
   "outputs": [],
   "source": [
    "coefficients_begin = sp.solve(equations_begin, sp.symbols('a:dbm0:2'))"
   ]
  },
  {
   "cell_type": "code",
   "execution_count": null,
   "metadata": {},
   "outputs": [],
   "source": [
    "for c, e in coefficients_begin.items():\n",
    "    display(NamedExpression(c, e))"
   ]
  },
  {
   "cell_type": "code",
   "execution_count": null,
   "metadata": {
    "scrolled": true
   },
   "outputs": [],
   "source": [
    "pddd0 = pdd0.diff(t)\n",
    "pddd1 = pdd1.diff(t)\n",
    "display(pddd0, pddd1)"
   ]
  },
  {
   "cell_type": "code",
   "execution_count": null,
   "metadata": {},
   "outputs": [],
   "source": [
    "expr = pddd0.evaluated_at(t, 1).expr - pddd1.evaluated_at(t, 0).expr\n",
    "expr"
   ]
  },
  {
   "cell_type": "code",
   "execution_count": null,
   "metadata": {},
   "outputs": [],
   "source": [
    "expr = expr.subs(coefficients_begin)\n",
    "expr"
   ]
  },
  {
   "cell_type": "code",
   "execution_count": null,
   "metadata": {},
   "outputs": [],
   "source": [
    "expr /= 12"
   ]
  },
  {
   "cell_type": "code",
   "execution_count": null,
   "metadata": {},
   "outputs": [],
   "source": [
    "expr"
   ]
  },
  {
   "cell_type": "code",
   "execution_count": null,
   "metadata": {},
   "outputs": [],
   "source": []
  },
  {
   "cell_type": "code",
   "execution_count": null,
   "metadata": {},
   "outputs": [],
   "source": []
  },
  {
   "cell_type": "code",
   "execution_count": null,
   "metadata": {},
   "outputs": [],
   "source": []
  },
  {
   "cell_type": "code",
   "execution_count": null,
   "metadata": {},
   "outputs": [],
   "source": []
  },
  {
   "cell_type": "code",
   "execution_count": null,
   "metadata": {},
   "outputs": [],
   "source": []
  },
  {
   "cell_type": "code",
   "execution_count": null,
   "metadata": {},
   "outputs": [],
   "source": []
  }
 ],
 "metadata": {
  "kernelspec": {
   "display_name": "Python 3",
   "language": "python",
   "name": "python3"
  },
  "language_info": {
   "codemirror_mode": {
    "name": "ipython",
    "version": 3
   },
   "file_extension": ".py",
   "mimetype": "text/x-python",
   "name": "python",
   "nbconvert_exporter": "python",
   "pygments_lexer": "ipython3",
   "version": "3.9.1"
  }
 },
 "nbformat": 4,
 "nbformat_minor": 4
}
